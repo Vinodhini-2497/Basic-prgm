{
 "cells": [
  {
   "cell_type": "code",
   "execution_count": 8,
   "metadata": {},
   "outputs": [
    {
     "name": "stdout",
     "output_type": "stream",
     "text": [
      "Enter the number:175\n",
      "The square of each digitnumber is 125\n",
      "The square of each digitnumber is 49\n",
      "The square of each digitnumber is 1\n",
      "The given number is Disarium\n"
     ]
    }
   ],
   "source": [
    "#To check if the given number is a Disarium Number\n",
    "def number(n):\n",
    "    len=0\n",
    "    while(n>0):\n",
    "        n=n//10\n",
    "        len=len+1\n",
    "    return len\n",
    "def disarium(x,n):\n",
    "    count=0\n",
    "    while(n>0):\n",
    "        r=n%10\n",
    "        count=count+pow(r,x)\n",
    "        print(\"The square of each digitnumber is\",pow(r,x))\n",
    "        x=x-1\n",
    "        n=n//10   \n",
    "    return count\n",
    "\n",
    "n=int(input(\"Enter the number:\"))\n",
    "x=number(n)\n",
    "m=disarium(x,n)   \n",
    "       \n",
    "if(m==n):\n",
    "    print(\"The given number is Disarium\")\n",
    "else:\n",
    "    print(\" The given number is not a Disarium\")\n",
    "        \n",
    "    "
   ]
  },
  {
   "cell_type": "code",
   "execution_count": 1,
   "metadata": {},
   "outputs": [
    {
     "name": "stdout",
     "output_type": "stream",
     "text": [
      "Disram number between 1 to 100:\n",
      "1\n",
      "2\n",
      "3\n",
      "4\n",
      "5\n",
      "6\n",
      "7\n",
      "8\n",
      "9\n",
      "89\n"
     ]
    }
   ],
   "source": [
    "#to print all disarium numbers between 1 to 100\n",
    "\n",
    "def digit(n1):\n",
    "    len=0\n",
    "    while(n1!=0):\n",
    "        n1=n1//10\n",
    "        len=len+1\n",
    "    return len\n",
    "def disarium(n):\n",
    "    r=count=0\n",
    "    num=digit(n)\n",
    "    while(n>0):\n",
    "        r=n%10\n",
    "        count=count+pow(r,num)\n",
    "        num=num-1\n",
    "        n=n//10\n",
    "    return count\n",
    "\n",
    "result=0\n",
    "print(\"Disarium number between 1 to 100:\")\n",
    "for i in range(1,101):\n",
    "    result=disarium(i)\n",
    "    if(result==i):\n",
    "        print(i)\n",
    "\n",
    "        \n",
    "    "
   ]
  },
  {
   "cell_type": "code",
   "execution_count": 13,
   "metadata": {},
   "outputs": [
    {
     "name": "stdout",
     "output_type": "stream",
     "text": [
      "Enter the value:100\n",
      "Happy Number\n"
     ]
    }
   ],
   "source": [
    "#The given number is Happy Number or Not\n",
    "def HappyNumber(n):\n",
    "        digit=sum=0\n",
    "        while(n>0):\n",
    "            digit=n%10\n",
    "            sum=sum+(digit*digit)\n",
    "            n=n//10\n",
    "        return sum\n",
    "\n",
    "n=int(input(\"Enter the value:\"))\n",
    "result=n\n",
    "while(result!=1 and result!=4):\n",
    "     result=HappyNumber(result)\n",
    "    \n",
    "if(result==1):\n",
    "     print(\"Happy Number\")\n",
    "    \n",
    "elif(result):\n",
    "     print(\"Not a Happy Number\")\n",
    "\n",
    "\n"
   ]
  },
  {
   "cell_type": "code",
   "execution_count": 18,
   "metadata": {},
   "outputs": [
    {
     "name": "stdout",
     "output_type": "stream",
     "text": [
      "Happy Number range 1 to 100\n",
      "1\n",
      "7\n",
      "10\n",
      "13\n",
      "19\n",
      "23\n",
      "28\n",
      "31\n",
      "32\n",
      "44\n",
      "49\n",
      "68\n",
      "70\n",
      "79\n",
      "82\n",
      "86\n",
      "91\n",
      "94\n",
      "97\n",
      "100\n"
     ]
    }
   ],
   "source": [
    "#The given number is Happy Number in range between 1 to 100\n",
    "def HappyNumber(n):\n",
    "        digit=sum=0\n",
    "        while(n>0):\n",
    "            digit=n%10\n",
    "            sum=sum+(digit*digit)\n",
    "            n=n//10\n",
    "        return sum\n",
    "print(\"Happy Number range 1 to 100\") \n",
    "\n",
    "for i in range(1,101):\n",
    "    result=i\n",
    "    while(result!=1 and result!=4):\n",
    "        result=HappyNumber(result)\n",
    "       \n",
    "    if(result==1):\n",
    "        print(i)"
   ]
  },
  {
   "cell_type": "code",
   "execution_count": 61,
   "metadata": {},
   "outputs": [
    {
     "data": {
      "text/plain": [
       "'No, this is not'"
      ]
     },
     "execution_count": 61,
     "metadata": {},
     "output_type": "execute_result"
    }
   ],
   "source": [
    "#the given number is a Harshad Number or Not\n",
    "def harshed(n):\n",
    "    sum=0\n",
    "    temp=n\n",
    "    while(temp>0):\n",
    "        sum=sum+temp%10\n",
    "        temp=temp//10\n",
    "    if(n%sum==0):\n",
    "        return \"Yes, this is harshed number\"\n",
    "    else:\n",
    "        return \"No, this is not\"\n",
    "    \n",
    "harshed(15)"
   ]
  },
  {
   "cell_type": "code",
   "execution_count": 60,
   "metadata": {},
   "outputs": [
    {
     "name": "stdout",
     "output_type": "stream",
     "text": [
      "2\n",
      "6\n",
      "12\n",
      "20\n",
      "30\n",
      "42\n",
      "56\n",
      "72\n",
      "90\n"
     ]
    }
   ],
   "source": [
    "#all pronic numbers between 1 and 100\n",
    "import math\n",
    "def pronic(n):\n",
    "    bool=0\n",
    "    for i in range(1,n+1):\n",
    "        for j in range(0,i+1):\n",
    "            if (j*(j+1)==num):\n",
    "                bool=1\n",
    "                break\n",
    "    return bool\n",
    "for i in range(0,101):\n",
    "    if(pronic(i)):\n",
    "        print(i)"
   ]
  },
  {
   "cell_type": "code",
   "execution_count": null,
   "metadata": {},
   "outputs": [],
   "source": []
  }
 ],
 "metadata": {
  "kernelspec": {
   "display_name": "Python 3",
   "language": "python",
   "name": "python3"
  },
  "language_info": {
   "codemirror_mode": {
    "name": "ipython",
    "version": 3
   },
   "file_extension": ".py",
   "mimetype": "text/x-python",
   "name": "python",
   "nbconvert_exporter": "python",
   "pygments_lexer": "ipython3",
   "version": "3.8.5"
  }
 },
 "nbformat": 4,
 "nbformat_minor": 4
}
