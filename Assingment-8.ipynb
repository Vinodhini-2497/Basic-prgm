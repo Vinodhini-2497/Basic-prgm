{
 "cells": [
  {
   "cell_type": "code",
   "execution_count": 56,
   "metadata": {},
   "outputs": [],
   "source": [
    "import numpy as np\n",
    "import array"
   ]
  },
  {
   "cell_type": "code",
   "execution_count": 137,
   "metadata": {},
   "outputs": [
    {
     "data": {
      "text/plain": [
       "array([4, 2, 1])"
      ]
     },
     "execution_count": 137,
     "metadata": {},
     "output_type": "execute_result"
    }
   ],
   "source": [
    "#additon of two matrix using numpy\n",
    "def array(arr1,arr2):\n",
    "    arr1=np.array([3,2,1])\n",
    "    arr2=np.array([1,0,0])\n",
    "    add_matrix=np.add(arr1,arr2)\n",
    "    return(add_matrix)\n",
    " \n",
    "array(arr1,arr2)   "
   ]
  },
  {
   "cell_type": "code",
   "execution_count": 440,
   "metadata": {},
   "outputs": [
    {
     "name": "stdout",
     "output_type": "stream",
     "text": [
      "you may proceed the addition matrix\n",
      "[[2, 3, 4], [12, 13, 14]]\n"
     ]
    }
   ],
   "source": [
    "#addition of two matrix \n",
    "class add_matrix():\n",
    "    def __init__(self,m1,m2):\n",
    "        self.m1=m1\n",
    "        self.m2=m2\n",
    "        m1_row=len(self.m1)\n",
    "        m2_row=len(self.m2)\n",
    "        m1_col=len(self.m1[0])\n",
    "        m2_col=len(self.m2[0])\n",
    "        if((m1_row==m2_row)and(m1_col==m2_col)):\n",
    "            print(\"you may proceed the addition matrix\")\n",
    "        else:\n",
    "            print(\"OOPS!,its not same\")\n",
    "    try:          \n",
    "        def add(self):\n",
    "            for i in range(len(self.m1)):\n",
    "                for j in range(len(self.m1[0])):\n",
    "                    result[i][j]=m1[i][j]+m2[i][j]\n",
    "            print(result)\n",
    "    \n",
    "    except Exception as e:\n",
    "        print(e)\n",
    "    \n",
    "m1=[[1,2,3],[2,3,4]]\n",
    "m2=[[1,1,1],[10,10,10]]          \n",
    "result=[[0,0,0],[0,0,0]] \n",
    "\n",
    "m=add_matrix(m1,m2)\n",
    "m.add()"
   ]
  },
  {
   "cell_type": "code",
   "execution_count": 17,
   "metadata": {},
   "outputs": [
    {
     "name": "stdout",
     "output_type": "stream",
     "text": [
      "[[3, 9, 21, 12], [55, 32, 57, 45], [30, 66, 82, 20]]\n"
     ]
    }
   ],
   "source": [
    "#mutiply the two matrix array\n",
    "def multi_matrix(a,b,multi):\n",
    "\n",
    "    for i in range(len(a)):\n",
    "        for j in range(len(b[0])):\n",
    "            for k in range(len(b)):\n",
    "                multi[i][j]+=a[i][k]*b[k][j]\n",
    "\n",
    "    print(multi)\n",
    "\n",
    "a=[[0,0,3],[7,1,6],[4,8,2]]\n",
    "b=[[7,1,1,3],[0,7,8,0],[1,3,7,4]]\n",
    "multi=[[0,0,0,0],[0,0,0,0],[0,0,0,0]]\n",
    "\n",
    "\n",
    "multi_matrix(a,b,multi)"
   ]
  },
  {
   "cell_type": "code",
   "execution_count": 35,
   "metadata": {},
   "outputs": [
    {
     "name": "stdout",
     "output_type": "stream",
     "text": [
      "matrix of two array [[ 6 14  1]\n",
      " [20 27  0]]\n"
     ]
    }
   ],
   "source": [
    "#multiplication of two array using numpy\n",
    "import numpy as np\n",
    "def multi(m1,m2,multi_array):\n",
    "    m1=np.array([[2,-7,1],[5,3,7]])\n",
    "    m2=np.array([[3,-2,1],[4,9,0]])\n",
    "    multi_array=np.multiply(m1,m2)\n",
    "    print(\"matrix of two array\", multi_array)\n",
    "    \n",
    "multi(m1,m2,multi_array)"
   ]
  },
  {
   "cell_type": "code",
   "execution_count": 46,
   "metadata": {},
   "outputs": [
    {
     "name": "stdout",
     "output_type": "stream",
     "text": [
      "The given matrix is  [[1, 7], [4, 5], [7, 8]]\n",
      "the transpose of matrix is [[1, 4, 7], [7, 5, 8]]\n"
     ]
    }
   ],
   "source": [
    "#Transpose of matrix array using oops\n",
    "class transpose():\n",
    "    def __init__(self,arr):\n",
    "        self.arr=arr\n",
    "        print(\"The given matrix is \",arr)\n",
    "    def __add__(self,other):\n",
    "        for i in range(len(self.arr)):\n",
    "            for j in range(len(self.arr[0])):\n",
    "                result[j][i]=arr[i][j]\n",
    "                \n",
    "        print(\"the transpose of matrix is\",result)        \n",
    "            \n",
    "\n",
    "arr=[[1,7],[4,5],[7,8]]\n",
    "result=[[0,0,0],[0,0,0]]        \n",
    "\n",
    "z=transpose(arr) \n",
    "z.__add__(result)"
   ]
  },
  {
   "cell_type": "code",
   "execution_count": 69,
   "metadata": {},
   "outputs": [
    {
     "name": "stdout",
     "output_type": "stream",
     "text": [
      "the transpose matrix of ax is [[1 4 7]\n",
      " [7 5 8]]\n"
     ]
    }
   ],
   "source": [
    "#Transpose of matrix array using \n",
    "def tranx_matrix(ax):\n",
    "    ax=np.array([[1,7],[4,5],[7,8]])\n",
    "    tranx=np.transpose(ax)\n",
    "    print(\"The transpose matrix of ax is\",tranx)\n",
    "\n",
    "tranx_matrix(ax)"
   ]
  },
  {
   "cell_type": "code",
   "execution_count": 98,
   "metadata": {},
   "outputs": [
    {
     "name": "stdout",
     "output_type": "stream",
     "text": [
      "A\n",
      "a\n",
      "begins\n",
      "journey\n",
      "miles\n",
      "of\n",
      "single\n",
      "step\n",
      "thousand\n",
      "with\n"
     ]
    }
   ],
   "source": [
    "#Program to Sort Words in Alphabetic Order\n",
    "class sentence_sort():\n",
    "    def __init__(self,sentence):\n",
    "        self.sentence=sentence\n",
    "        \n",
    "    def __repr__(self):\n",
    "        word=(self.sentence).split()\n",
    "        word.sort()\n",
    "        for words in word:\n",
    "            print(words)\n",
    "            \n",
    "sentence=\"A journey of thousand miles begins with a single step\"\n",
    "\n",
    "alpha=sentence_sort(sentence)\n",
    "alpha.__repr__()"
   ]
  },
  {
   "cell_type": "code",
   "execution_count": 89,
   "metadata": {},
   "outputs": [
    {
     "name": "stdout",
     "output_type": "stream",
     "text": [
      "The string is: Maya: why do not they know who is responsible?,they asked.\n",
      "The remove punctuation in given string is: Maya  why do not they know who is responsible  they asked \n"
     ]
    }
   ],
   "source": [
    "#remove punctuation mark in given string\n",
    "def punc_mark(word):\n",
    "    punc=[\".\",\",\",\"!\",\":\",\"`\",\"''\",\";\",\"~\",\",\",\"?\"]\n",
    "    word=\"Maya: why do not they know who is responsible?,they asked.\"\n",
    "    print(\"The string is:\",word)\n",
    "    for i in word:\n",
    "        if i in punc:\n",
    "            word=word.replace(i,\" \")\n",
    "         \n",
    "    print(\"The remove punctuation in given string is:\",word)\n",
    "    \n",
    "punc_mark(word)"
   ]
  },
  {
   "cell_type": "code",
   "execution_count": null,
   "metadata": {},
   "outputs": [],
   "source": []
  },
  {
   "cell_type": "code",
   "execution_count": null,
   "metadata": {},
   "outputs": [],
   "source": []
  }
 ],
 "metadata": {
  "kernelspec": {
   "display_name": "Python 3",
   "language": "python",
   "name": "python3"
  }
 },
 "nbformat": 4,
 "nbformat_minor": 4
}
